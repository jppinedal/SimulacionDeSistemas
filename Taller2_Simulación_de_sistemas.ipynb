{
  "nbformat": 4,
  "nbformat_minor": 0,
  "metadata": {
    "colab": {
      "provenance": [],
      "authorship_tag": "ABX9TyOrQxie5iW3puq973wOHi9F",
      "include_colab_link": true
    },
    "kernelspec": {
      "name": "python3",
      "display_name": "Python 3"
    },
    "language_info": {
      "name": "python"
    }
  },
  "cells": [
    {
      "cell_type": "markdown",
      "metadata": {
        "id": "view-in-github",
        "colab_type": "text"
      },
      "source": [
        "<a href=\"https://colab.research.google.com/github/jppinedal/SimulacionDeSistemas/blob/main/Taller2_Simulaci%C3%B3n_de_sistemas.ipynb\" target=\"_parent\"><img src=\"https://colab.research.google.com/assets/colab-badge.svg\" alt=\"Open In Colab\"/></a>"
      ]
    },
    {
      "cell_type": "markdown",
      "source": [
        "## Taller 2 Simulación de sistemas\n",
        "### Juan Pablo Pineda\n",
        "\n",
        "1. ### Método de acierto/falla"
      ],
      "metadata": {
        "id": "GOlbqx1vb69M"
      }
    },
    {
      "cell_type": "code",
      "execution_count": null,
      "metadata": {
        "colab": {
          "base_uri": "https://localhost:8080/"
        },
        "id": "45Sl-Wgabz68",
        "outputId": "5c2a161f-3ed6-4622-8f95-045fd4a004cf"
      },
      "outputs": [
        {
          "output_type": "stream",
          "name": "stdout",
          "text": [
            "Número de aciertos: 4666\n"
          ]
        }
      ],
      "source": [
        "import math\n",
        "import random\n",
        "\n",
        "def genera_pares_uniformes(N):\n",
        "    pares = []\n",
        "\n",
        "    for _ in range(N):\n",
        "        Ui = random.random()  # Genera un número uniforme entre 0 y 1\n",
        "        Ui_prima = random.random()  # Genera otro número uniforme entre 0 y 1\n",
        "        pares.append((Ui, Ui_prima)) # Almacenamos en una tupla\n",
        "\n",
        "    return pares\n",
        "\n",
        "N = 10000  # Cantidad de pares de números a generar\n",
        "secuencia_pares = genera_pares_uniformes(N)\n",
        "aciertos = 0\n",
        "lista_xi = []\n",
        "for i, (Ui, Ui_prima) in enumerate(secuencia_pares, start=1):\n",
        "    #print(f\"Par {i}: ({Ui}, {Ui_prima})\")\n",
        "    Xi = 0 + Ui*(4-0)\n",
        "    gxi = (Xi + (Xi + (Xi)**(1/2))**(1/2))**(1/2)\n",
        "    #gxi = math.sqrt(math.sqrt(math.sqrt(Xi)+Xi)+Xi)\n",
        "\n",
        "    if gxi >= 4*Ui_prima:\n",
        "      aciertos += 1\n",
        "\n",
        "#print(f\"Xi: {Xi}\")\n",
        "print(f\"Número de aciertos: {aciertos}\")"
      ]
    },
    {
      "cell_type": "code",
      "source": [
        "# 4. Estimar la integral I como θI=c(b−a)NH/N.\n",
        "theta1 = 4*(4-0)*(aciertos/N)\n",
        "print(f\"Resultado de la integral por el método prueba y error {theta1}\")"
      ],
      "metadata": {
        "colab": {
          "base_uri": "https://localhost:8080/"
        },
        "id": "1TaLU42Vrk9l",
        "outputId": "1b53787c-8edb-4a73-f18b-801792386a44"
      },
      "execution_count": null,
      "outputs": [
        {
          "output_type": "stream",
          "name": "stdout",
          "text": [
            "Resultado de la integral por el método prueba y error 7.544\n"
          ]
        }
      ]
    },
    {
      "cell_type": "code",
      "source": [
        "# Intervalo de confianza:\n",
        "pgorro = aciertos/N\n",
        "zalpha = 1.96 # 1-2α = 0.9 (enunciado), 1-α = 0.95(95% de confianza según indicaciones de la profesora),  como estamos tomando solo el lado derecho de la distribución el nivel de confianza es de el 0.475 por lo cual por la z distribucion tomamos 1.96\n",
        "\n",
        "intervalo_confianza_max = theta1 + zalpha*((((pgorro*(1-pgorro))**(1/2))*(4-0)*4)/N**(1/2))\n",
        "intervalo_confianza_min = theta1 - zalpha*((((pgorro*(1-pgorro))**(1/2))*(4-0)*4)/N**(1/2))\n",
        "\n",
        "print(f\"El intervalo de confianza de la integral es [{intervalo_confianza_min}, {intervalo_confianza_max}]\")\n"
      ],
      "metadata": {
        "colab": {
          "base_uri": "https://localhost:8080/"
        },
        "id": "PhmNdiZUVLL8",
        "outputId": "76b4479a-2e1d-45f8-e0b3-8981a0127489"
      },
      "execution_count": null,
      "outputs": [
        {
          "output_type": "stream",
          "name": "stdout",
          "text": [
            "El intervalo de confianza de la integral es [7.3874549288344085, 7.700545071165591]\n"
          ]
        }
      ]
    },
    {
      "cell_type": "markdown",
      "source": [
        "2. **texto en negrita**\n",
        "### Método de la media muestral"
      ],
      "metadata": {
        "id": "CNqcWj-Eef2T"
      }
    },
    {
      "cell_type": "code",
      "source": [
        "# Punto 2, método de la media muestral\n",
        "\n",
        "N = 10000  # Cantidad de pares de números a generar\n",
        "secuencia_pares = genera_pares_uniformes(N)\n",
        "acumulado_theta2 = 0\n",
        "\n",
        "for i, (Ui, Ui_prima) in enumerate(secuencia_pares, start=1):\n",
        "    #print(f\"Par {i}: ({Ui}, {Ui_prima})\")\n",
        "    Xi = 0 + Ui*(4-0)\n",
        "    gxi = (Xi + (Xi + (Xi)**(1/2))**(1/2))**(1/2)\n",
        "    #gxi = math.sqrt(math.sqrt(math.sqrt(Xi)+Xi)+Xi)\n",
        "    acumulado_theta2 += gxi\n",
        "\n",
        "\n",
        "theta2 = (4-0)*(1/N)*acumulado_theta2\n",
        "print(f\"Resultado de la integral por método de la media muestral: {theta2}\")"
      ],
      "metadata": {
        "colab": {
          "base_uri": "https://localhost:8080/"
        },
        "id": "igk98Zo5TD1O",
        "outputId": "36a1ff54-d17e-4f12-8067-01469c688fe7"
      },
      "execution_count": null,
      "outputs": [
        {
          "output_type": "stream",
          "name": "stdout",
          "text": [
            "Resultado de la integral por método de la media muestral: 7.5355937768956185\n"
          ]
        }
      ]
    }
  ]
}